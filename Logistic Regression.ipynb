{
 "cells": [
  {
   "cell_type": "code",
   "execution_count": 1,
   "metadata": {},
   "outputs": [],
   "source": [
    "import numpy as np\n",
    "import matplotlib.pyplot as plt"
   ]
  },
  {
   "cell_type": "markdown",
   "metadata": {},
   "source": [
    "## Generate Data"
   ]
  },
  {
   "cell_type": "code",
   "execution_count": 17,
   "metadata": {},
   "outputs": [],
   "source": [
    "mean_01 = np.array([0, 1])\n",
    "mean_02 = np.array([3, 4])\n",
    "\n",
    "cov_01 = np.array([[1.2, 0.2], [0.2, 0.8]])\n",
    "cov_02 = np.array([[1.2, 0.5], [0.5, 1.8]])\n",
    "\n",
    "dist_01 = np.random.multivariate_normal(mean_01, cov_01, 500)\n",
    "dist_02 = np.random.multivariate_normal(mean_02, cov_02, 500)"
   ]
  },
  {
   "cell_type": "code",
   "execution_count": 18,
   "metadata": {},
   "outputs": [
    {
     "data": {
      "image/png": "[encoded data removed]",
      "text/plain": [
       "<Figure size 432x288 with 1 Axes>"
      ]
     },
     "metadata": {
      "needs_background": "light"
     },
     "output_type": "display_data"
    }
   ],
   "source": [
    "plt.figure()\n",
    "plt.scatter(dist_01[:, 0], dist_01[:, 1], color='red')\n",
    "plt.scatter(dist_02[:, 0], dist_02[:, 1], color='green')\n",
    "plt.show()"
   ]
  },
  {
   "cell_type": "code",
   "execution_count": 33,
   "metadata": {},
   "outputs": [
    {
     "name": "stdout",
     "output_type": "stream",
     "text": [
      "(1000, 3)\n"
     ]
    }
   ],
   "source": [
    "dataset = np.zeros((dist_01.shape[0] + dist_02.shape[0], dist_01.shape[1] + 1))\n",
    "dataset[:dist_01.shape[0], :-1] = dist_01\n",
    "dataset[dist_01.shape[0]:, :-1] = dist_02\n",
    "dataset[dist_01.shape[0]:, -1] = 1\n",
    "print(dataset.shape)"
   ]
  },
  {
   "cell_type": "code",
   "execution_count": 34,
   "metadata": {},
   "outputs": [
    {
     "name": "stdout",
     "output_type": "stream",
     "text": [
      "[[ 0.41354493  0.97143863  0.        ]\n",
      " [ 0.10656136  1.08635422  0.        ]\n",
      " [ 0.09224903  2.35425197  0.        ]\n",
      " [-0.79919855  1.38721897  0.        ]\n",
      " [-0.0490523   1.08080293  0.        ]\n",
      " [ 0.43976498  2.3943351   0.        ]\n",
      " [ 1.80211476  0.9020232   0.        ]\n",
      " [ 0.7334382  -0.54530428  0.        ]\n",
      " [ 0.4189095   0.2771789   0.        ]\n",
      " [-2.04178402  1.80274101  0.        ]]\n",
      "------- After Shuffling ------\n",
      "[[ 0.20915616 -0.10753298  0.        ]\n",
      " [ 3.8731893   1.07220337  1.        ]\n",
      " [ 0.76274522  1.81702486  0.        ]\n",
      " [ 1.62258289  4.50415327  1.        ]\n",
      " [-0.65807579  0.01730113  0.        ]\n",
      " [-1.34139216  1.59856283  0.        ]\n",
      " [ 3.49769661  3.91537158  1.        ]\n",
      " [ 0.49195364  1.45317     0.        ]\n",
      " [ 4.10935376  3.25047424  1.        ]\n",
      " [-0.99159803 -0.90014965  0.        ]]\n"
     ]
    }
   ],
   "source": [
    "print(dataset[:10])\n",
    "np.random.shuffle(dataset)\n",
    "print('------- After Shuffling ------')\n",
    "\n",
    "print(dataset[:10])"
   ]
  },
  {
   "cell_type": "code",
   "execution_count": 25,
   "metadata": {},
   "outputs": [
    {
     "name": "stdout",
     "output_type": "stream",
     "text": [
      "(800, 2) (800,)\n",
      "(200, 2) (200,)\n"
     ]
    }
   ],
   "source": [
    "split = int(0.8 * dataset.shape[0])\n",
    "X_train, X_test, y_train, y_test = dataset[:split, :-1], dataset[split:, :-1], dataset[:split, -1], dataset[split:, -1]\n",
    "print(X_train.shape, y_train.shape)\n",
    "print(X_test.shape, y_test.shape)"
   ]
  },
  {
   "cell_type": "code",
   "execution_count": 35,
   "metadata": {},
   "outputs": [],
   "source": [
    "# np.hstack((X_train[:10], y_train[:10].reshape(-1, 1)))"
   ]
  },
  {
   "cell_type": "markdown",
   "metadata": {},
   "source": [
    "# Implement Logistic Regression (Classifier)"
   ]
  },
  {
   "cell_type": "code",
   "execution_count": 154,
   "metadata": {},
   "outputs": [],
   "source": [
    "class LogisticRegression:\n",
    "    \n",
    "    def __init__(self, X, y):\n",
    "        self.X = X\n",
    "        self.y = y\n",
    "        self.N, self.dim = X.shape[0], X.shape[1]\n",
    "        self.coef = np.random.uniform(low=-1, high=1, size=(self.dim, ))\n",
    "        self.intercept = np.random.random()\n",
    "        \n",
    "    def sigmoid(self, z):\n",
    "        return 1 / (1 + np.exp(-z))\n",
    "    \n",
    "    def hypothesis(self, x):\n",
    "        return self.sigmoid(self.coef.dot(x) + self.intercept)\n",
    "    \n",
    "    def apply_gradient_descent(self, learning_rate=0.1):\n",
    "        \n",
    "        gradients = np.zeros_like(self.coef)\n",
    "        grad_00 = 0\n",
    "        \n",
    "        # For all examples calculate gradient\n",
    "        for i in range(self.N):\n",
    "            xi = self.X[i]\n",
    "            gradients += (self.hypothesis(xi) - self.y[i]) * xi\n",
    "            grad_00 += (self.hypothesis(xi) - self.y[i])\n",
    "        \n",
    "        # Update Weights\n",
    "        self.coef -= learning_rate * gradients\n",
    "        self.intercept -= learning_rate * grad_00\n",
    "    \n",
    "    \n",
    "    def compute_loss(self):\n",
    "        log_likelihood = 0\n",
    "        # L = ylog(hx) + (1-y)(log(1 - hx))\n",
    "        for x,y in zip(self.X, self.y):\n",
    "            log_likelihood += ( (y * np.log(self.hypothesis(x) + 1e-03)) +  ((1 - y) * np.log(1 - self.hypothesis(x) + 1e-03)) )\n",
    "        \n",
    "        neg_log_likelihood = -log_likelihood / self.N\n",
    "        return neg_log_likelihood\n",
    "    \n",
    "    def predict(self, x):\n",
    "        hx = self.hypothesis(x)\n",
    "        if hx >= 0.5:\n",
    "            return 1\n",
    "        else:\n",
    "            return 0\n",
    "        \n",
    "    def get_predictions(self, X_data):\n",
    "        yhat = []\n",
    "        for x in X_data:\n",
    "            yhat.append(self.predict(x))\n",
    "        return np.array(yhat)        \n",
    "    \n",
    "    def accuracy(self, test_data, y_actual):\n",
    "        yhat = self.get_predictions(test_data)\n",
    "        return (yhat == y_actual).sum() / test_data.shape[0]\n",
    "        \n",
    "        \n",
    "        "
   ]
  },
  {
   "cell_type": "code",
   "execution_count": 155,
   "metadata": {},
   "outputs": [],
   "source": [
    "log_reg = LogisticRegression(X_train, y_train)\n",
    "losses = [log_reg.compute_loss()]"
   ]
  },
  {
   "cell_type": "code",
   "execution_count": 161,
   "metadata": {},
   "outputs": [],
   "source": [
    "def draw_decision_boundary():\n",
    "    plt.figure()\n",
    "    plt.scatter(dist_01[:, 0], dist_01[:, 1], color='red')\n",
    "    plt.scatter(dist_02[:, 0], dist_02[:, 1], color='green')\n",
    "    x = np.array([-4, 5])\n",
    "    y = -(log_reg.coef[0] * x + log_reg.intercept)/log_reg.coef[1]\n",
    "    plt.plot(x,y, 'k')\n",
    "    plt.title(\"Decision Boundary\")\n",
    "    plt.show()"
   ]
  },
  {
   "cell_type": "code",
   "execution_count": 162,
   "metadata": {},
   "outputs": [
    {
     "data": {
      "image/png": "[encoded data removed]",
      "text/plain": [
       "<Figure size 432x288 with 1 Axes>"
      ]
     },
     "metadata": {
      "needs_background": "light"
     },
     "output_type": "display_data"
    },
    {
     "name": "stdout",
     "output_type": "stream",
     "text": [
      "Accuracy: 0.97\n"
     ]
    },
    {
     "data": {
      "image/png": "[encoded data removed]",
      "text/plain": [
       "<Figure size 432x288 with 1 Axes>"
      ]
     },
     "metadata": {
      "needs_background": "light"
     },
     "output_type": "display_data"
    }
   ],
   "source": [
    "epochs = 14\n",
    "alpha = 0.01\n",
    "for _ in range(epochs):\n",
    "    log_reg.apply_gradient_descent(alpha)\n",
    "    losses.append(log_reg.compute_loss())\n",
    "draw_decision_boundary()\n",
    "print(\"Accuracy:\", log_reg.accuracy(X_test, y_test))\n",
    "plt.figure()\n",
    "plt.plot(losses)\n",
    "plt.show()"
   ]
  },
  {
   "cell_type": "markdown",
   "metadata": {},
   "source": [
    "# Using SKLearn"
   ]
  },
  {
   "cell_type": "code",
   "execution_count": 142,
   "metadata": {},
   "outputs": [],
   "source": [
    "from sklearn.linear_model import LogisticRegression as SKLogReg"
   ]
  },
  {
   "cell_type": "code",
   "execution_count": 143,
   "metadata": {},
   "outputs": [],
   "source": [
    "sk_log_reg = SKLogReg()"
   ]
  },
  {
   "cell_type": "code",
   "execution_count": 144,
   "metadata": {},
   "outputs": [
    {
     "name": "stderr",
     "output_type": "stream",
     "text": [
      "/Users/Pratulya/Desktop/codingblocks/ml-dwarka/venv/lib/python3.7/site-packages/sklearn/linear_model/logistic.py:433: FutureWarning: Default solver will be changed to 'lbfgs' in 0.22. Specify a solver to silence this warning.\n",
      "  FutureWarning)\n"
     ]
    },
    {
     "data": {
      "text/plain": [
       "LogisticRegression(C=1.0, class_weight=None, dual=False, fit_intercept=True,\n",
       "          intercept_scaling=1, max_iter=100, multi_class='warn',\n",
       "          n_jobs=None, penalty='l2', random_state=None, solver='warn',\n",
       "          tol=0.0001, verbose=0, warm_start=False)"
      ]
     },
     "execution_count": 144,
     "metadata": {},
     "output_type": "execute_result"
    }
   ],
   "source": [
    "sk_log_reg.fit(X_train, y_train)"
   ]
  },
  {
   "cell_type": "code",
   "execution_count": 146,
   "metadata": {},
   "outputs": [
    {
     "data": {
      "text/plain": [
       "0.97"
      ]
     },
     "execution_count": 146,
     "metadata": {},
     "output_type": "execute_result"
    }
   ],
   "source": [
    "sk_log_reg.score(X_test, y_test)"
   ]
  },
  {
   "cell_type": "code",
   "execution_count": 147,
   "metadata": {},
   "outputs": [
    {
     "data": {
      "text/plain": [
       "array([[1.66422737, 1.53228089]])"
      ]
     },
     "execution_count": 147,
     "metadata": {},
     "output_type": "execute_result"
    }
   ],
   "source": [
    "sk_log_reg.coef_"
   ]
  }
 ],
 "metadata": {
  "kernelspec": {
   "display_name": "Python 3",
   "language": "python",
   "name": "python3"
  },
  "language_info": {
   "codemirror_mode": {
    "name": "ipython",
    "version": 3
   },
   "file_extension": ".py",
   "mimetype": "text/x-python",
   "name": "python",
   "nbconvert_exporter": "python",
   "pygments_lexer": "ipython3",
   "version": "3.7.0"
  }
 },
 "nbformat": 4,
 "nbformat_minor": 2
}
