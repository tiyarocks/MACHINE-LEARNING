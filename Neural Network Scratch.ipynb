{
 "cells": [
  {
   "cell_type": "code",
   "execution_count": 3,
   "metadata": {},
   "outputs": [],
   "source": [
    "import numpy as np\n",
    "from matplotlib import pyplot as plt\n",
    "from pandas import read_csv\n",
    "from sklearn.model_selection import train_test_split"
   ]
  },
  {
   "cell_type": "code",
   "execution_count": 4,
   "metadata": {},
   "outputs": [
    {
     "name": "stdout",
     "output_type": "stream",
     "text": [
      "   label  pixel0  pixel1  pixel2  pixel3    ...     pixel779  pixel780  pixel781  pixel782  pixel783\n",
      "0      1       0       0       0       0    ...            0         0         0         0         0\n",
      "1      0       0       0       0       0    ...            0         0         0         0         0\n",
      "2      1       0       0       0       0    ...            0         0         0         0         0\n",
      "3      4       0       0       0       0    ...            0         0         0         0         0\n",
      "4      0       0       0       0       0    ...            0         0         0         0         0\n",
      "\n",
      "[5 rows x 785 columns]\n"
     ]
    }
   ],
   "source": [
    "dataset = read_csv('../datasets/mnist_data/train.csv')\n",
    "dataset = dataset.values"
   ]
  },
  {
   "cell_type": "code",
   "execution_count": 5,
   "metadata": {},
   "outputs": [
    {
     "name": "stdout",
     "output_type": "stream",
     "text": [
      "(33600, 784) (8400, 784) (33600,) (8400,)\n"
     ]
    }
   ],
   "source": [
    "X_train, X_test, y_train, y_test = train_test_split(dataset[:, 1:], dataset[:, 0], test_size=0.2)\n",
    "print(X_train.shape, X_test.shape, y_train.shape, y_test.shape)"
   ]
  },
  {
   "cell_type": "code",
   "execution_count": 38,
   "metadata": {},
   "outputs": [],
   "source": [
    "X_train, X_test = X_train/255, X_test/255"
   ]
  },
  {
   "cell_type": "code",
   "execution_count": 17,
   "metadata": {},
   "outputs": [
    {
     "name": "stdout",
     "output_type": "stream",
     "text": [
      "[0 1 4 1 7 5 1 4 5 1]\n"
     ]
    }
   ],
   "source": [
    "print(y_train[:10])"
   ]
  },
  {
   "cell_type": "code",
   "execution_count": 135,
   "metadata": {},
   "outputs": [],
   "source": [
    "class NeuralNetwork:\n",
    "    \n",
    "    def __init__(self, X_train, y_train):\n",
    "        self.X_train = X_train\n",
    "        self.y_train = y_train\n",
    "        self.N = X_train.shape[0]\n",
    "        self.INPUT_DIM = X_train.shape[1]\n",
    "        self.OUTPUT_DIM = len(np.unique(y_train))\n",
    "        self.H1_DIM = 256\n",
    "        self.H2_DIM = 64\n",
    "        self.losses = list()\n",
    "        \n",
    "        # Initialize Weights\n",
    "        self.W1 = np.random.randn(self.INPUT_DIM, self.H1_DIM)\n",
    "        self.b1 = np.zeros((1, self.H1_DIM))\n",
    "        \n",
    "        self.W2 = np.random.randn(self.H1_DIM, self.H2_DIM)\n",
    "        self.b2 = np.zeros((1, self.H2_DIM))\n",
    "        \n",
    "        self.W3 = np.random.randn(self.H2_DIM, self.OUTPUT_DIM)\n",
    "        self.b3 = np.zeros((1, self.OUTPUT_DIM))\n",
    "    \n",
    "    \n",
    "    def forward(self, X):\n",
    "        Z1 = X.dot(self.W1) + self.b1 # (N,256) = (N,784).dot(784,256) + (1,256)\n",
    "        A1 = self.sigmoid(Z1) # (N,256)\n",
    "        Z2 = A1.dot(self.W2) + self.b2 # (N,64) = (N,256).dot(256,64) + (1,64)\n",
    "        A2 = self.sigmoid(Z2) # (N,64)\n",
    "        Z3 = A2.dot(self.W3) + self.b3 # (N,10) = (N,64).dot(64,10) + (1,10)\n",
    "        yhat = self.softmax(Z3)\n",
    "        \n",
    "        self.activation_outputs = (A1, A2, yhat)\n",
    "        return yhat\n",
    "    \n",
    "    \n",
    "    def backward(self, X, y, yhat, learning_rate=0.01):\n",
    "        A1, A2, yhat = self.activation_outputs\n",
    "        \n",
    "        # Compute Gradients\n",
    "        delta3 = yhat - y\n",
    "        dldw3  = A2.T.dot(delta3)\n",
    "        dldb3  = delta3.sum(axis=0, keepdims=True)\n",
    "        \n",
    "        \n",
    "        delta2 = delta3.dot(self.W3.T) * (A2 * (1 - A2))\n",
    "        dldw2  = A1.T.dot(delta2)\n",
    "        dldb2  = delta2.sum(axis=0, keepdims=True)\n",
    "        \n",
    "        delta1 = delta2.dot(self.W2.T) * (A1 * (1 - A1))\n",
    "        dldw1  = X.T.dot(delta1)\n",
    "        dldb1  = delta1.sum(axis=0, keepdims=True)\n",
    "        \n",
    "        # Update Weights\n",
    "        self.W3 -= dldw3 * learning_rate\n",
    "        self.b3 -= dldb3 * learning_rate\n",
    "        \n",
    "        self.W2 -= dldw2 * learning_rate\n",
    "        self.b2 -= dldb2 * learning_rate\n",
    "        \n",
    "        self.W1 -= dldw1 * learning_rate\n",
    "        self.b1 -= dldb1 * learning_rate\n",
    "    \n",
    "    \n",
    "    def get_one_hot_vector(self, labels):\n",
    "        distinct_labels = np.unique(labels)\n",
    "        n_classes = len(distinct_labels)\n",
    "        one_hot_vector = np.zeros((labels.shape[0], n_classes))\n",
    "        for i,label in enumerate(labels):\n",
    "            one_hot_vector[i, label] = 1\n",
    "        return one_hot_vector\n",
    "    \n",
    "    \n",
    "    def compute_loss(self, y, yhat):\n",
    "        return -np.sum(y * np.log(yhat))\n",
    "    \n",
    "    \n",
    "    def accuracy(self, labels, predictions):\n",
    "        return (labels==predictions).mean()\n",
    "    \n",
    "    \n",
    "    def predict(self, test):\n",
    "        yhat = self.forward(test)\n",
    "        preds = np.argmax(yhat, axis=1)\n",
    "        return preds\n",
    "    \n",
    "    \n",
    "    def sigmoid(self, z):\n",
    "        return 1 / (1 + np.exp(-z))\n",
    "    \n",
    "    \n",
    "    def sigmoid_derivative(self, z):\n",
    "        y = self.sigmoid(z)\n",
    "        return y * (1-y)\n",
    "    \n",
    "    \n",
    "    def softmax(self, z):\n",
    "        return np.exp(z) / (np.exp(z).sum(axis=1, keepdims=True))\n",
    "    \n",
    "    \n",
    "    def train(self, learning_rate=0.01, epochs=10, batch_size=128):\n",
    "        y_one_hot_vector = self.get_one_hot_vector(self.y_train)\n",
    "        \n",
    "        for e in range(epochs):\n",
    "            size = 0\n",
    "            while size + batch_size < self.N:\n",
    "                x_batch = self.X_train[size : size + batch_size]\n",
    "                y_batch = self.y_train[size : size + batch_size]\n",
    "                size += batch_size\n",
    "                \n",
    "                y_batch_one_hot = self.get_one_hot_vector(y_batch)\n",
    "                yhat_batch = self.forward(x_batch)\n",
    "                self.backward(x_batch, y_batch_one_hot, yhat_batch, learning_rate)\n",
    "            \n",
    "            yhat = self.forward(self.X_train)\n",
    "            self.losses.append(self.compute_loss(y_one_hot_vector, yhat))\n",
    "            print(\"Loss at Epoch [{}]: {}\".format(e, self.losses[-1]))\n",
    "    \n",
    "    "
   ]
  },
  {
   "cell_type": "code",
   "execution_count": 154,
   "metadata": {},
   "outputs": [],
   "source": [
    "nn = NeuralNetwork(X_train, y_train)"
   ]
  },
  {
   "cell_type": "code",
   "execution_count": 155,
   "metadata": {},
   "outputs": [
    {
     "data": {
      "text/plain": [
       "(784, 256, 64, 10)"
      ]
     },
     "execution_count": 155,
     "metadata": {},
     "output_type": "execute_result"
    }
   ],
   "source": [
    "nn.INPUT_DIM, nn.H1_DIM, nn.H2_DIM, nn.OUTPUT_DIM"
   ]
  },
  {
   "cell_type": "code",
   "execution_count": 156,
   "metadata": {},
   "outputs": [
    {
     "name": "stdout",
     "output_type": "stream",
     "text": [
      "First Loss:  214462.0346927005\n"
     ]
    }
   ],
   "source": [
    "print(\"First Loss: \", nn.compute_loss(nn.get_one_hot_vector(nn.y_train), nn.forward(nn.X_train)))"
   ]
  },
  {
   "cell_type": "code",
   "execution_count": 160,
   "metadata": {},
   "outputs": [
    {
     "name": "stdout",
     "output_type": "stream",
     "text": [
      "Loss at Epoch [0]: 1937.4164924411657\n",
      "Loss at Epoch [1]: 1734.053957442213\n",
      "Loss at Epoch [2]: 1536.2148430557713\n",
      "Loss at Epoch [3]: 1473.031505283338\n",
      "Loss at Epoch [4]: 1400.4371567963947\n",
      "Loss at Epoch [5]: 1341.307623633659\n",
      "Loss at Epoch [6]: 1292.3660549402587\n",
      "Loss at Epoch [7]: 1248.692368803363\n",
      "Loss at Epoch [8]: 1206.7898986306006\n",
      "Loss at Epoch [9]: 1166.16487281652\n",
      "Loss at Epoch [10]: 1128.2215442018905\n",
      "Loss at Epoch [11]: 1087.9718763014741\n",
      "Loss at Epoch [12]: 1048.684750757201\n",
      "Loss at Epoch [13]: 1014.6655038274299\n",
      "Loss at Epoch [14]: 982.1889447416379\n",
      "Loss at Epoch [15]: 948.8865376845275\n",
      "Loss at Epoch [16]: 916.0771373512822\n",
      "Loss at Epoch [17]: 884.7610106447277\n",
      "Loss at Epoch [18]: 854.6268056635456\n",
      "Loss at Epoch [19]: 829.5907944915217\n"
     ]
    }
   ],
   "source": [
    "nn.train(learning_rate=0.01, epochs=20, batch_size=128)"
   ]
  },
  {
   "cell_type": "code",
   "execution_count": 167,
   "metadata": {},
   "outputs": [
    {
     "data": {
      "image/png": "[encoded data removed]",
      "text/plain": [
       "<Figure size 432x288 with 1 Axes>"
      ]
     },
     "metadata": {
      "needs_background": "light"
     },
     "output_type": "display_data"
    }
   ],
   "source": [
    "plt.figure()\n",
    "plt.plot(nn.losses)\n",
    "plt.show()"
   ]
  },
  {
   "cell_type": "code",
   "execution_count": 164,
   "metadata": {},
   "outputs": [
    {
     "name": "stdout",
     "output_type": "stream",
     "text": [
      "Testing Acc:  0.9298809523809524\n"
     ]
    }
   ],
   "source": [
    "preds = nn.predict(X_test)\n",
    "print(\"Testing Acc: \", nn.accuracy(y_test, preds))"
   ]
  },
  {
   "cell_type": "code",
   "execution_count": 165,
   "metadata": {},
   "outputs": [
    {
     "name": "stdout",
     "output_type": "stream",
     "text": [
      "Training Acc: 0.9947619047619047\n"
     ]
    }
   ],
   "source": [
    "train_preds = nn.predict(X_train)\n",
    "print(\"Training Acc:\", nn.accuracy(y_train, train_preds))"
   ]
  },
  {
   "cell_type": "code",
   "execution_count": 166,
   "metadata": {},
   "outputs": [
    {
     "name": "stdout",
     "output_type": "stream",
     "text": [
      "Model has been overfitted!\n"
     ]
    }
   ],
   "source": [
    "print(\"Model has been overfitted!\")"
   ]
  }
 ],
 "metadata": {
  "kernelspec": {
   "display_name": "Python 3",
   "language": "python",
   "name": "python3"
  },
  "language_info": {
   "codemirror_mode": {
    "name": "ipython",
    "version": 3
   },
   "file_extension": ".py",
   "mimetype": "text/x-python",
   "name": "python",
   "nbconvert_exporter": "python",
   "pygments_lexer": "ipython3",
   "version": "3.7.0"
  }
 },
 "nbformat": 4,
 "nbformat_minor": 2
}
