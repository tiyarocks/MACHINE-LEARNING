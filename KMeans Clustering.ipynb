{
 "cells": [
  {
   "cell_type": "markdown",
   "metadata": {},
   "source": [
    "# KMeans Clustering"
   ]
  },
  {
   "cell_type": "code",
   "execution_count": 1,
   "metadata": {},
   "outputs": [],
   "source": [
    "import numpy as np\n",
    "from matplotlib import pyplot as plt"
   ]
  },
  {
   "cell_type": "code",
   "execution_count": 15,
   "metadata": {},
   "outputs": [
    {
     "name": "stderr",
     "output_type": "stream",
     "text": [
      "/Users/Pratulya/Desktop/codingblocks/ml-dwarka/venv/lib/python3.7/site-packages/ipykernel_launcher.py:8: RuntimeWarning: covariance is not symmetric positive-semidefinite.\n",
      "  \n"
     ]
    }
   ],
   "source": [
    "# Generating Dataset\n",
    "mean_01 = np.array([0, 1])\n",
    "cov_01 = np.array([[0.6, 0.9], [0.9, 0.3]])\n",
    "\n",
    "mean_02 = np.array([4,2])\n",
    "cov_02 = np.array([[1.4, -0.32], [-0.32, 1.2]])\n",
    "\n",
    "dist_01 = np.random.multivariate_normal(mean_01, cov_01, 400)\n",
    "dist_02 = np.random.multivariate_normal(mean_02, cov_02, 400)"
   ]
  },
  {
   "cell_type": "code",
   "execution_count": 16,
   "metadata": {},
   "outputs": [
    {
     "name": "stdout",
     "output_type": "stream",
     "text": [
      "(400, 2) (400, 2)\n"
     ]
    }
   ],
   "source": [
    "print(dist_01.shape, dist_02.shape)"
   ]
  },
  {
   "cell_type": "code",
   "execution_count": 17,
   "metadata": {},
   "outputs": [
    {
     "data": {
      "image/png": "[encoded data removed]",
      "text/plain": [
       "<Figure size 432x288 with 1 Axes>"
      ]
     },
     "metadata": {
      "needs_background": "light"
     },
     "output_type": "display_data"
    }
   ],
   "source": [
    "plt.figure()\n",
    "plt.scatter(dist_01[:, 0], dist_01[:, 1], color='red')\n",
    "plt.scatter(dist_02[:, 0], dist_02[:, 1], color='green')\n",
    "plt.show()"
   ]
  },
  {
   "cell_type": "code",
   "execution_count": 29,
   "metadata": {},
   "outputs": [
    {
     "name": "stdout",
     "output_type": "stream",
     "text": [
      "(800, 2)\n"
     ]
    }
   ],
   "source": [
    "dataset = np.zeros((dist_01.shape[0] + dist_02.shape[0], dist_01.shape[1]))\n",
    "dataset[:dist_01.shape[0], :] = dist_01\n",
    "dataset[dist_01.shape[0]:, :] = dist_02\n",
    "print(dataset.shape)"
   ]
  },
  {
   "cell_type": "markdown",
   "metadata": {},
   "source": [
    "### OOPS"
   ]
  },
  {
   "cell_type": "code",
   "execution_count": 50,
   "metadata": {},
   "outputs": [],
   "source": [
    "class Person:\n",
    "    \n",
    "    def __init__(self, f, l=\"\", age=0):\n",
    "        self.first_name = f\n",
    "        self.last_name = l\n",
    "        self.age = age\n",
    "    \n",
    "    def __del__(self):\n",
    "        print(\"Deleted\")\n",
    "    \n",
    "    def __str__(self):\n",
    "        return \"{} {} [Age: {}]\".format(self.first_name, self.last_name, self.age)\n",
    "\n",
    "    def __repr__(self):\n",
    "        return \"{} {} [Age: {}]\".format(self.first_name, self.last_name, self.age)"
   ]
  },
  {
   "cell_type": "code",
   "execution_count": 52,
   "metadata": {},
   "outputs": [
    {
     "name": "stdout",
     "output_type": "stream",
     "text": [
      "Deleted\n",
      "Pratulya  [Age: 0]\n"
     ]
    }
   ],
   "source": [
    "p1 = Person(\"Pratulya\", \"\", 0)\n",
    "p2 = Person(\"Rishabh\", \"Kapoor\")\n",
    "print(p1)"
   ]
  },
  {
   "cell_type": "code",
   "execution_count": 198,
   "metadata": {},
   "outputs": [],
   "source": [
    "class Cluster:\n",
    "    cid = 0 # Cluster ID\n",
    "    \n",
    "    def __init__(self, center, color):\n",
    "        self.center = center\n",
    "        self.color = color\n",
    "        self.points = list()\n",
    "        self.id = Cluster.cid\n",
    "        Cluster.cid += 1\n",
    "        \n",
    "    def __str__(self):\n",
    "        return \"Cluster {} {}\".format(self.id, self.color)\n",
    "    \n",
    "    def update_center(self):\n",
    "        if not self.points:\n",
    "            return self.center\n",
    "        new_center = np.array(self.points).mean(axis=0)\n",
    "        self.center = new_center\n",
    "        return self.center"
   ]
  },
  {
   "cell_type": "code",
   "execution_count": 220,
   "metadata": {},
   "outputs": [],
   "source": [
    "class KMeans:\n",
    "    \n",
    "    def __init__(self, k, dataset, centers, colors):\n",
    "        self.k = k\n",
    "        self.centers = centers\n",
    "        self.dataset = dataset\n",
    "        self.clusters = list()\n",
    "        self.colors = colors\n",
    "        self.inertias = list()\n",
    "        \n",
    "        for center,color in zip(centers, colors):\n",
    "            cluster = Cluster(center, color)\n",
    "            self.clusters.append(cluster)\n",
    "            \n",
    "    def assign_clusters_to_points(self):\n",
    "        for cluster in self.clusters:\n",
    "            cluster.points = list() # Emptying list\n",
    "        \n",
    "        for point in dataset:\n",
    "            distances = []\n",
    "            for cluster in self.clusters:\n",
    "                center = cluster.center\n",
    "                d = KMeans.distance(point, center)\n",
    "                distances.append((d, cluster))\n",
    "            distances = sorted(distances, key=lambda x:x[0])\n",
    "            closest_cluster = distances[0][1]\n",
    "            closest_cluster.points.append(point)\n",
    "            \n",
    "        for cluster in self.clusters:\n",
    "            print(\"{} has {} points.\".format(cluster, len(cluster.points)))\n",
    "                \n",
    "    \n",
    "    def update_cluster_centers(self):\n",
    "        new_centers = []\n",
    "        for cluster in self.clusters:\n",
    "            new_centers.append(cluster.update_center())\n",
    "        self.centers = np.array(new_centers)\n",
    "    \n",
    "    def run(self, iterations=1):\n",
    "        for _ in range(iterations):\n",
    "            self.assign_clusters_to_points()\n",
    "            self.update_cluster_centers()\n",
    "            self.calculate_inertia()\n",
    "            \n",
    "    def calculate_inertia(self):\n",
    "        inertia = 0\n",
    "        for cluster in self.clusters:\n",
    "            for point in cluster.points:\n",
    "                inertia += KMeans.distance(point, cluster.center)\n",
    "        self.inertias.append(inertia)\n",
    "            \n",
    "    @staticmethod\n",
    "    def distance(p1, p2):\n",
    "        return np.sqrt(np.sum((p1-p2)**2))\n",
    "    "
   ]
  },
  {
   "cell_type": "code",
   "execution_count": 221,
   "metadata": {},
   "outputs": [
    {
     "data": {
      "text/plain": [
       "array([[ 3.44645079,  1.73304644],\n",
       "       [-3.24164528,  2.36012971],\n",
       "       [ 2.78038557,  4.58557222],\n",
       "       [ 4.76714275,  0.36204067],\n",
       "       [-1.86414599,  1.18372288]])"
      ]
     },
     "execution_count": 221,
     "metadata": {},
     "output_type": "execute_result"
    }
   ],
   "source": [
    "# Executing KMeans\n",
    "k = 5\n",
    "random_centers = np.random.uniform(low=dataset.min(), high=dataset.max(), size=(k, dataset.shape[1]))\n",
    "colors = ['red', 'green', 'blue', 'yellow', 'orange']\n",
    "\n",
    "random_centers"
   ]
  },
  {
   "cell_type": "code",
   "execution_count": 222,
   "metadata": {},
   "outputs": [
    {
     "data": {
      "text/plain": [
       "array([[ 3.44645079,  1.73304644],\n",
       "       [-3.24164528,  2.36012971],\n",
       "       [ 2.78038557,  4.58557222],\n",
       "       [ 4.76714275,  0.36204067],\n",
       "       [-1.86414599,  1.18372288]])"
      ]
     },
     "execution_count": 222,
     "metadata": {},
     "output_type": "execute_result"
    }
   ],
   "source": [
    "kmeans = KMeans(k, dataset, random_centers, colors)\n",
    "kmeans.centers"
   ]
  },
  {
   "cell_type": "code",
   "execution_count": 223,
   "metadata": {},
   "outputs": [
    {
     "data": {
      "text/plain": [
       "[]"
      ]
     },
     "execution_count": 223,
     "metadata": {},
     "output_type": "execute_result"
    }
   ],
   "source": [
    "kmeans.inertias"
   ]
  },
  {
   "cell_type": "code",
   "execution_count": 224,
   "metadata": {},
   "outputs": [
    {
     "data": {
      "image/png": "[encoded data removed]",
      "text/plain": [
       "<Figure size 432x288 with 1 Axes>"
      ]
     },
     "metadata": {
      "needs_background": "light"
     },
     "output_type": "display_data"
    }
   ],
   "source": [
    "plt.figure()\n",
    "plt.scatter(dataset[:, 0], dataset[:, 1])\n",
    "plt.scatter(random_centers[:,0], random_centers[:, 1], color='black', marker='^', s=100)\n",
    "# plt.scatter(dataset.mean(axis=0)[:, 0], dataset.mean(axis=0)[:, 1], color='yellow', marker='*', s=100)\n",
    "plt.show()"
   ]
  },
  {
   "cell_type": "code",
   "execution_count": 228,
   "metadata": {},
   "outputs": [
    {
     "name": "stdout",
     "output_type": "stream",
     "text": [
      "Cluster 5 red has 141 points.\n",
      "Cluster 6 green has 187 points.\n",
      "Cluster 7 blue has 133 points.\n",
      "Cluster 8 yellow has 124 points.\n",
      "Cluster 9 orange has 215 points.\n",
      "Cluster 5 red has 136 points.\n",
      "Cluster 6 green has 188 points.\n",
      "Cluster 7 blue has 137 points.\n",
      "Cluster 8 yellow has 125 points.\n",
      "Cluster 9 orange has 214 points.\n",
      "Cluster 5 red has 133 points.\n",
      "Cluster 6 green has 192 points.\n",
      "Cluster 7 blue has 137 points.\n",
      "Cluster 8 yellow has 128 points.\n",
      "Cluster 9 orange has 210 points.\n",
      "Cluster 5 red has 133 points.\n",
      "Cluster 6 green has 195 points.\n",
      "Cluster 7 blue has 137 points.\n",
      "Cluster 8 yellow has 128 points.\n",
      "Cluster 9 orange has 207 points.\n",
      "Cluster 5 red has 133 points.\n",
      "Cluster 6 green has 195 points.\n",
      "Cluster 7 blue has 137 points.\n",
      "Cluster 8 yellow has 128 points.\n",
      "Cluster 9 orange has 207 points.\n",
      "Cluster 5 red has 133 points.\n",
      "Cluster 6 green has 195 points.\n",
      "Cluster 7 blue has 137 points.\n",
      "Cluster 8 yellow has 128 points.\n",
      "Cluster 9 orange has 207 points.\n",
      "Cluster 5 red has 133 points.\n",
      "Cluster 6 green has 195 points.\n",
      "Cluster 7 blue has 137 points.\n",
      "Cluster 8 yellow has 128 points.\n",
      "Cluster 9 orange has 207 points.\n",
      "Cluster 5 red has 133 points.\n",
      "Cluster 6 green has 195 points.\n",
      "Cluster 7 blue has 137 points.\n",
      "Cluster 8 yellow has 128 points.\n",
      "Cluster 9 orange has 207 points.\n",
      "Cluster 5 red has 133 points.\n",
      "Cluster 6 green has 195 points.\n",
      "Cluster 7 blue has 137 points.\n",
      "Cluster 8 yellow has 128 points.\n",
      "Cluster 9 orange has 207 points.\n",
      "Cluster 5 red has 133 points.\n",
      "Cluster 6 green has 195 points.\n",
      "Cluster 7 blue has 137 points.\n",
      "Cluster 8 yellow has 128 points.\n",
      "Cluster 9 orange has 207 points.\n",
      "[923.0731284949013, 816.81476303035, 760.4983532090807, 721.9479158422565, 702.6581884379572, 693.1784714677457, 687.6525473842942, 684.2927429120443, 682.690546813872, 681.9752603295434, 681.389069586428, 681.0317945750362, 680.6500929976097, 680.1530296824011, 679.6890100652737, 679.6258295455333, 679.600754630887, 679.5414568542545, 679.3263142852228, 678.6315958379333, 678.2039640418145, 677.8563074206166, 677.5980624195657, 677.4772926881385, 677.4772926881385, 677.4772926881385, 677.4772926881385, 677.4772926881385, 677.4772926881385, 677.4772926881385]\n",
      "[3.86410947 1.25466428]\n",
      "(133, 2)\n",
      "[-0.66703479  0.45912512]\n",
      "(195, 2)\n",
      "[3.18393837 3.01897398]\n",
      "(137, 2)\n",
      "[5.25799785 1.89414001]\n",
      "(128, 2)\n",
      "[0.61460286 1.7290363 ]\n",
      "(207, 2)\n"
     ]
    },
    {
     "data": {
      "image/png": "[encoded data removed]",
      "text/plain": [
       "<Figure size 432x288 with 1 Axes>"
      ]
     },
     "metadata": {
      "needs_background": "light"
     },
     "output_type": "display_data"
    },
    {
     "data": {
      "image/png": "[encoded data removed]",
      "text/plain": [
       "<Figure size 432x288 with 1 Axes>"
      ]
     },
     "metadata": {
      "needs_background": "light"
     },
     "output_type": "display_data"
    }
   ],
   "source": [
    "kmeans.run(10)\n",
    "print(kmeans.inertias)\n",
    "plt.figure()\n",
    "for cluster in kmeans.clusters:\n",
    "    print(cluster.center)\n",
    "    points = np.array(cluster.points)\n",
    "    print(points.shape)\n",
    "    if len(points):\n",
    "        plt.scatter(points[:, 0], points[:, 1], color=cluster.color)\n",
    "    plt.scatter(cluster.center[0], cluster.center[1], color='black', s=100, marker='^')\n",
    "    \n",
    "plt.figure()\n",
    "plt.plot(kmeans.inertias)\n",
    "plt.show()"
   ]
  },
  {
   "cell_type": "markdown",
   "metadata": {},
   "source": [
    "# SKLearn KMeans"
   ]
  },
  {
   "cell_type": "code",
   "execution_count": 211,
   "metadata": {},
   "outputs": [],
   "source": [
    "from sklearn.cluster import KMeans as SK_KMeans"
   ]
  },
  {
   "cell_type": "code",
   "execution_count": 212,
   "metadata": {},
   "outputs": [],
   "source": [
    "sk_kmeans = SK_KMeans(5)"
   ]
  },
  {
   "cell_type": "code",
   "execution_count": 213,
   "metadata": {},
   "outputs": [
    {
     "data": {
      "text/plain": [
       "KMeans(algorithm='auto', copy_x=True, init='k-means++', max_iter=300,\n",
       "    n_clusters=5, n_init=10, n_jobs=None, precompute_distances='auto',\n",
       "    random_state=None, tol=0.0001, verbose=0)"
      ]
     },
     "execution_count": 213,
     "metadata": {},
     "output_type": "execute_result"
    }
   ],
   "source": [
    "sk_kmeans.fit(dataset)"
   ]
  },
  {
   "cell_type": "code",
   "execution_count": 217,
   "metadata": {},
   "outputs": [
    {
     "data": {
      "text/plain": [
       "array([0, 0, 3, 3, 1, 3, 3, 0, 3, 0, 0, 3, 3, 3, 3, 0, 3, 3, 2, 0, 0, 0,\n",
       "       0, 3, 3, 3, 3, 3, 0, 0, 0, 3, 0, 0, 0, 3, 3, 0, 3, 0, 3, 0, 0, 0,\n",
       "       3, 3, 3, 0, 3, 3, 0, 3, 0, 3, 3, 0, 3, 3, 3, 0, 3, 3, 3, 0, 0, 0,\n",
       "       0, 3, 0, 0, 0, 0, 3, 3, 0, 0, 3, 3, 3, 3, 0, 0, 0, 0, 3, 0, 0, 0,\n",
       "       3, 0, 3, 0, 0, 3, 3, 0, 3, 0, 0, 0, 3, 0, 3, 0, 0, 0, 0, 0, 1, 0,\n",
       "       3, 0, 3, 0, 3, 3, 0, 0, 3, 3, 0, 3, 0, 3, 0, 0, 3, 3, 0, 0, 0, 0,\n",
       "       3, 3, 0, 3, 3, 0, 0, 3, 0, 0, 0, 3, 0, 0, 3, 3, 3, 0, 3, 3, 3, 0,\n",
       "       0, 0, 0, 3, 0, 1, 3, 0, 0, 3, 0, 3, 3, 0, 0, 3, 3, 0, 3, 0, 0, 3,\n",
       "       3, 3, 3, 0, 3, 0, 3, 0, 0, 0, 0, 0, 3, 0, 0, 0, 0, 0, 0, 3, 0, 0,\n",
       "       3, 3, 3, 0, 3, 0, 0, 0, 0, 3, 0, 3, 1, 3, 1, 0, 0, 0, 0, 3, 0, 3,\n",
       "       3, 0, 1, 3, 3, 3, 0, 0, 3, 0, 3, 0, 0, 0, 3, 3, 0, 3, 3, 3, 3, 3,\n",
       "       0, 3, 0, 1, 0, 0, 3, 3, 0, 3, 0, 3, 3, 0, 3, 0, 3, 0, 3, 3, 3, 0,\n",
       "       0, 3, 0, 3, 0, 3, 0, 0, 0, 0, 1, 0, 0, 0, 0, 3, 0, 0, 0, 3, 3, 3,\n",
       "       3, 3, 3, 3, 3, 3, 3, 0, 3, 3, 0, 0, 3, 0, 0, 3, 3, 0, 3, 3, 1, 3,\n",
       "       3, 0, 3, 0, 3, 3, 3, 3, 0, 0, 0, 3, 3, 0, 0, 0, 3, 3, 0, 0, 0, 3,\n",
       "       0, 3, 0, 0, 0, 0, 3, 3, 0, 3, 3, 0, 0, 0, 3, 3, 3, 3, 0, 0, 0, 3,\n",
       "       3, 3, 3, 3, 3, 0, 0, 0, 3, 0, 3, 3, 0, 3, 0, 0, 3, 3, 3, 3, 0, 1,\n",
       "       3, 3, 0, 0, 3, 0, 0, 3, 0, 3, 3, 3, 0, 3, 3, 0, 3, 3, 3, 3, 0, 3,\n",
       "       3, 0, 0, 0, 1, 2, 1, 4, 1, 3, 2, 2, 1, 1, 4, 1, 1, 1, 4, 2, 1, 1,\n",
       "       1, 2, 4, 1, 1, 2, 1, 4, 1, 2, 4, 2, 4, 2, 1, 2, 2, 4, 2, 4, 4, 4,\n",
       "       2, 1, 4, 2, 3, 3, 4, 1, 4, 4, 2, 2, 2, 4, 1, 4, 4, 2, 4, 1, 2, 4,\n",
       "       1, 2, 2, 4, 1, 2, 4, 2, 2, 1, 4, 4, 4, 1, 2, 2, 1, 4, 2, 2, 2, 2,\n",
       "       2, 1, 2, 2, 4, 4, 4, 2, 2, 2, 1, 1, 4, 1, 2, 1, 4, 2, 2, 3, 2, 4,\n",
       "       2, 2, 2, 2, 2, 2, 1, 2, 1, 1, 4, 1, 4, 1, 1, 2, 4, 4, 1, 2, 1, 2,\n",
       "       4, 4, 2, 1, 1, 1, 2, 1, 3, 1, 1, 3, 4, 2, 4, 1, 2, 2, 4, 2, 1, 4,\n",
       "       4, 4, 2, 2, 4, 2, 2, 4, 4, 4, 4, 1, 2, 2, 1, 2, 1, 1, 4, 4, 2, 4,\n",
       "       2, 1, 4, 4, 2, 1, 2, 1, 2, 4, 4, 1, 4, 1, 2, 4, 1, 2, 1, 1, 4, 2,\n",
       "       2, 4, 1, 3, 2, 4, 1, 2, 1, 4, 4, 2, 2, 2, 1, 4, 4, 4, 1, 4, 2, 2,\n",
       "       3, 2, 4, 4, 2, 4, 4, 4, 4, 1, 1, 1, 2, 2, 4, 2, 2, 2, 1, 2, 2, 4,\n",
       "       4, 1, 4, 1, 2, 2, 2, 4, 1, 1, 1, 4, 4, 2, 1, 3, 1, 1, 1, 4, 4, 2,\n",
       "       4, 2, 1, 2, 4, 2, 4, 1, 2, 4, 1, 1, 1, 1, 4, 3, 2, 2, 1, 2, 2, 1,\n",
       "       2, 1, 4, 2, 2, 1, 4, 1, 1, 1, 1, 4, 1, 1, 4, 2, 2, 4, 2, 1, 2, 4,\n",
       "       2, 1, 4, 4, 2, 4, 4, 4, 3, 4, 2, 4, 2, 1, 4, 2, 1, 1, 1, 2, 2, 2,\n",
       "       1, 4, 1, 2, 2, 1, 2, 1, 4, 1, 1, 3, 1, 1, 4, 2, 2, 4, 4, 1, 1, 2,\n",
       "       4, 1, 1, 1, 4, 1, 4, 2, 1, 2, 1, 4, 2, 2, 1, 1, 2, 4, 4, 2, 4, 4,\n",
       "       2, 2, 4, 2, 4, 1, 1, 4, 1, 4, 4, 4, 1, 1, 1, 2, 4, 4, 1, 3, 1, 1,\n",
       "       4, 4, 4, 4, 4, 4, 1, 1], dtype=int32)"
      ]
     },
     "execution_count": 217,
     "metadata": {},
     "output_type": "execute_result"
    }
   ],
   "source": [
    "sk_kmeans.labels_"
   ]
  },
  {
   "cell_type": "code",
   "execution_count": 218,
   "metadata": {},
   "outputs": [
    {
     "data": {
      "text/plain": [
       "array([[-0.655576  ,  0.46070572],\n",
       "       [ 3.18393837,  3.01897398],\n",
       "       [ 3.86410947,  1.25466428],\n",
       "       [ 0.61609503,  1.73990676],\n",
       "       [ 5.25799785,  1.89414001]])"
      ]
     },
     "execution_count": 218,
     "metadata": {},
     "output_type": "execute_result"
    }
   ],
   "source": [
    "sk_kmeans.cluster_centers_"
   ]
  },
  {
   "cell_type": "code",
   "execution_count": 227,
   "metadata": {},
   "outputs": [
    {
     "data": {
      "image/png": "[encoded data removed]",
      "text/plain": [
       "<Figure size 432x288 with 1 Axes>"
      ]
     },
     "metadata": {
      "needs_background": "light"
     },
     "output_type": "display_data"
    }
   ],
   "source": [
    "plt.figure()\n",
    "for point,label in zip(dataset, sk_kmeans.labels_):\n",
    "    plt.scatter(point[0], point[1], color=colors[label])\n",
    "for center in sk_kmeans.cluster_centers_:\n",
    "    plt.scatter(center[0], center[1], color='black', marker='^', s=100)\n",
    "plt.show()"
   ]
  },
  {
   "cell_type": "code",
   "execution_count": null,
   "metadata": {},
   "outputs": [],
   "source": []
  },
  {
   "cell_type": "code",
   "execution_count": null,
   "metadata": {},
   "outputs": [],
   "source": []
  },
  {
   "cell_type": "code",
   "execution_count": null,
   "metadata": {},
   "outputs": [],
   "source": []
  },
  {
   "cell_type": "code",
   "execution_count": null,
   "metadata": {},
   "outputs": [],
   "source": []
  }
 ],
 "metadata": {
  "kernelspec": {
   "display_name": "Python 3",
   "language": "python",
   "name": "python3"
  },
  "language_info": {
   "codemirror_mode": {
    "name": "ipython",
    "version": 3
   },
   "file_extension": ".py",
   "mimetype": "text/x-python",
   "name": "python",
   "nbconvert_exporter": "python",
   "pygments_lexer": "ipython3",
   "version": "3.7.0"
  }
 },
 "nbformat": 4,
 "nbformat_minor": 2
}
