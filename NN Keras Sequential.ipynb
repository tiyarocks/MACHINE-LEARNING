{
 "cells": [
  {
   "cell_type": "code",
   "execution_count": 3,
   "metadata": {},
   "outputs": [],
   "source": [
    "import numpy as np\n",
    "from matplotlib import pyplot as plt\n",
    "from pandas import read_csv\n",
    "from sklearn.model_selection import train_test_split\n",
    "\n",
    "import keras\n",
    "from keras.models import Sequential\n",
    "from keras.layers import Input, Dense, Activation\n",
    "from keras.utils import np_utils"
   ]
  },
  {
   "cell_type": "code",
   "execution_count": 4,
   "metadata": {},
   "outputs": [],
   "source": [
    "dataset = read_csv('../datasets/mnist_data/train.csv')\n",
    "dataset = dataset.values"
   ]
  },
  {
   "cell_type": "code",
   "execution_count": 5,
   "metadata": {},
   "outputs": [
    {
     "name": "stdout",
     "output_type": "stream",
     "text": [
      "(33600, 784) (8400, 784) (33600,) (8400,)\n"
     ]
    }
   ],
   "source": [
    "X_train, X_test, y_train, y_test = train_test_split(dataset[:, 1:], dataset[:, 0], test_size=0.2)\n",
    "print(X_train.shape, X_test.shape, y_train.shape, y_test.shape)"
   ]
  },
  {
   "cell_type": "code",
   "execution_count": 6,
   "metadata": {},
   "outputs": [],
   "source": [
    "X_train, X_test = X_train/255, X_test/255"
   ]
  },
  {
   "cell_type": "markdown",
   "metadata": {},
   "source": [
    "### Keras Sequential API on MNIST"
   ]
  },
  {
   "cell_type": "code",
   "execution_count": 45,
   "metadata": {},
   "outputs": [
    {
     "name": "stdout",
     "output_type": "stream",
     "text": [
      "_________________________________________________________________\n",
      "Layer (type)                 Output Shape              Param #   \n",
      "=================================================================\n",
      "dense_16 (Dense)             (None, 256)               200960    \n",
      "_________________________________________________________________\n",
      "activation_16 (Activation)   (None, 256)               0         \n",
      "_________________________________________________________________\n",
      "dense_17 (Dense)             (None, 64)                16448     \n",
      "_________________________________________________________________\n",
      "activation_17 (Activation)   (None, 64)                0         \n",
      "_________________________________________________________________\n",
      "dense_18 (Dense)             (None, 10)                650       \n",
      "_________________________________________________________________\n",
      "activation_18 (Activation)   (None, 10)                0         \n",
      "=================================================================\n",
      "Total params: 218,058\n",
      "Trainable params: 218,058\n",
      "Non-trainable params: 0\n",
      "_________________________________________________________________\n"
     ]
    }
   ],
   "source": [
    "model = Sequential()\n",
    "\n",
    "model.add(Dense(256, input_shape=(784, )))\n",
    "model.add(Activation('sigmoid'))\n",
    "\n",
    "model.add(Dense(64))\n",
    "model.add(Activation('sigmoid'))\n",
    "# model.add(Dense(64, activation='sigmoid'))\n",
    "\n",
    "model.add(Dense(10))\n",
    "model.add(Activation('softmax'))\n",
    "\n",
    "model.summary()"
   ]
  },
  {
   "cell_type": "code",
   "execution_count": 46,
   "metadata": {},
   "outputs": [],
   "source": [
    "# Initialize weights\n",
    "model.compile(loss='categorical_crossentropy', optimizer='adagrad', metrics=['accuracy'])"
   ]
  },
  {
   "cell_type": "code",
   "execution_count": 22,
   "metadata": {},
   "outputs": [],
   "source": [
    "y_train_one_hot = np_utils.to_categorical(y_train)\n",
    "y_test_one_hot = np_utils.to_categorical(y_test)"
   ]
  },
  {
   "cell_type": "code",
   "execution_count": 47,
   "metadata": {},
   "outputs": [
    {
     "name": "stdout",
     "output_type": "stream",
     "text": [
      "Train on 33600 samples, validate on 8400 samples\n",
      "Epoch 1/50\n",
      "33600/33600 [==============================] - 1s 40us/step - loss: 0.6748 - acc: 0.8424 - val_loss: 0.3874 - val_acc: 0.9025\n",
      "Epoch 2/50\n",
      "33600/33600 [==============================] - 1s 40us/step - loss: 0.3354 - acc: 0.9117 - val_loss: 0.3068 - val_acc: 0.9154\n",
      "Epoch 3/50\n",
      "33600/33600 [==============================] - 2s 51us/step - loss: 0.2790 - acc: 0.9237 - val_loss: 0.2716 - val_acc: 0.9227\n",
      "Epoch 4/50\n",
      "33600/33600 [==============================] - 2s 52us/step - loss: 0.2492 - acc: 0.9296 - val_loss: 0.2466 - val_acc: 0.9330\n",
      "Epoch 5/50\n",
      "33600/33600 [==============================] - 2s 49us/step - loss: 0.2290 - acc: 0.9343 - val_loss: 0.2310 - val_acc: 0.9369\n",
      "Epoch 6/50\n",
      "33600/33600 [==============================] - 2s 46us/step - loss: 0.2136 - acc: 0.9393 - val_loss: 0.2215 - val_acc: 0.9370\n",
      "Epoch 7/50\n",
      "33600/33600 [==============================] - 2s 50us/step - loss: 0.2013 - acc: 0.9425 - val_loss: 0.2106 - val_acc: 0.9404\n",
      "Epoch 8/50\n",
      "33600/33600 [==============================] - 1s 39us/step - loss: 0.1910 - acc: 0.9442 - val_loss: 0.2024 - val_acc: 0.9436\n",
      "Epoch 9/50\n",
      "33600/33600 [==============================] - 1s 39us/step - loss: 0.1822 - acc: 0.9469 - val_loss: 0.1963 - val_acc: 0.9445\n",
      "Epoch 10/50\n",
      "33600/33600 [==============================] - 1s 39us/step - loss: 0.1747 - acc: 0.9490 - val_loss: 0.1898 - val_acc: 0.9468\n",
      "Epoch 11/50\n",
      "33600/33600 [==============================] - 1s 39us/step - loss: 0.1680 - acc: 0.9512 - val_loss: 0.1855 - val_acc: 0.9487\n",
      "Epoch 12/50\n",
      "33600/33600 [==============================] - 1s 39us/step - loss: 0.1617 - acc: 0.9528 - val_loss: 0.1806 - val_acc: 0.9486\n",
      "Epoch 13/50\n",
      "33600/33600 [==============================] - 1s 39us/step - loss: 0.1561 - acc: 0.9549 - val_loss: 0.1764 - val_acc: 0.9499\n",
      "Epoch 14/50\n",
      "33600/33600 [==============================] - 1s 39us/step - loss: 0.1511 - acc: 0.9555 - val_loss: 0.1751 - val_acc: 0.9502\n",
      "Epoch 15/50\n",
      "33600/33600 [==============================] - 1s 40us/step - loss: 0.1465 - acc: 0.9570 - val_loss: 0.1691 - val_acc: 0.9524\n",
      "Epoch 16/50\n",
      "33600/33600 [==============================] - 1s 39us/step - loss: 0.1421 - acc: 0.9586 - val_loss: 0.1657 - val_acc: 0.9525\n",
      "Epoch 17/50\n",
      "33600/33600 [==============================] - 1s 39us/step - loss: 0.1381 - acc: 0.9595 - val_loss: 0.1639 - val_acc: 0.9525\n",
      "Epoch 18/50\n",
      "33600/33600 [==============================] - 1s 40us/step - loss: 0.1342 - acc: 0.9608 - val_loss: 0.1605 - val_acc: 0.9535\n",
      "Epoch 19/50\n",
      "33600/33600 [==============================] - 1s 40us/step - loss: 0.1308 - acc: 0.9620 - val_loss: 0.1575 - val_acc: 0.9550\n",
      "Epoch 20/50\n",
      "33600/33600 [==============================] - 2s 49us/step - loss: 0.1273 - acc: 0.9630 - val_loss: 0.1555 - val_acc: 0.9555\n",
      "Epoch 21/50\n",
      "33600/33600 [==============================] - 2s 58us/step - loss: 0.1244 - acc: 0.9641 - val_loss: 0.1532 - val_acc: 0.9558\n",
      "Epoch 22/50\n",
      "33600/33600 [==============================] - 1s 43us/step - loss: 0.1213 - acc: 0.9654 - val_loss: 0.1501 - val_acc: 0.9575\n",
      "Epoch 23/50\n",
      "33600/33600 [==============================] - 2s 55us/step - loss: 0.1185 - acc: 0.9662 - val_loss: 0.1481 - val_acc: 0.9581\n",
      "Epoch 24/50\n",
      "33600/33600 [==============================] - 1s 39us/step - loss: 0.1157 - acc: 0.9674 - val_loss: 0.1467 - val_acc: 0.9568\n",
      "Epoch 25/50\n",
      "33600/33600 [==============================] - 1s 38us/step - loss: 0.1132 - acc: 0.9687 - val_loss: 0.1444 - val_acc: 0.9589\n",
      "Epoch 26/50\n",
      "33600/33600 [==============================] - 1s 38us/step - loss: 0.1106 - acc: 0.9693 - val_loss: 0.1440 - val_acc: 0.9573\n",
      "Epoch 27/50\n",
      "33600/33600 [==============================] - 1s 41us/step - loss: 0.1084 - acc: 0.9697 - val_loss: 0.1417 - val_acc: 0.9581\n",
      "Epoch 28/50\n",
      "33600/33600 [==============================] - 1s 42us/step - loss: 0.1059 - acc: 0.9709 - val_loss: 0.1405 - val_acc: 0.9592\n",
      "Epoch 29/50\n",
      "33600/33600 [==============================] - 1s 44us/step - loss: 0.1040 - acc: 0.9711 - val_loss: 0.1384 - val_acc: 0.9596\n",
      "Epoch 30/50\n",
      "33600/33600 [==============================] - 1s 43us/step - loss: 0.1017 - acc: 0.9717 - val_loss: 0.1370 - val_acc: 0.9596\n",
      "Epoch 31/50\n",
      "33600/33600 [==============================] - 1s 42us/step - loss: 0.0998 - acc: 0.9729 - val_loss: 0.1352 - val_acc: 0.9596\n",
      "Epoch 32/50\n",
      "33600/33600 [==============================] - 1s 41us/step - loss: 0.0978 - acc: 0.9732 - val_loss: 0.1336 - val_acc: 0.9608\n",
      "Epoch 33/50\n",
      "33600/33600 [==============================] - 1s 41us/step - loss: 0.0959 - acc: 0.9737 - val_loss: 0.1325 - val_acc: 0.9608\n",
      "Epoch 34/50\n",
      "33600/33600 [==============================] - 1s 42us/step - loss: 0.0942 - acc: 0.9741 - val_loss: 0.1317 - val_acc: 0.9614\n",
      "Epoch 35/50\n",
      "33600/33600 [==============================] - 1s 41us/step - loss: 0.0924 - acc: 0.9748 - val_loss: 0.1303 - val_acc: 0.9615\n",
      "Epoch 36/50\n",
      "33600/33600 [==============================] - 1s 40us/step - loss: 0.0908 - acc: 0.9751 - val_loss: 0.1292 - val_acc: 0.9621\n",
      "Epoch 37/50\n",
      "33600/33600 [==============================] - 2s 53us/step - loss: 0.0892 - acc: 0.9760 - val_loss: 0.1280 - val_acc: 0.9631\n",
      "Epoch 38/50\n",
      "33600/33600 [==============================] - 2s 72us/step - loss: 0.0875 - acc: 0.9761 - val_loss: 0.1270 - val_acc: 0.9627\n",
      "Epoch 39/50\n",
      "33600/33600 [==============================] - 2s 72us/step - loss: 0.0860 - acc: 0.9768 - val_loss: 0.1257 - val_acc: 0.9631\n",
      "Epoch 40/50\n",
      "33600/33600 [==============================] - 3s 94us/step - loss: 0.0845 - acc: 0.9774 - val_loss: 0.1251 - val_acc: 0.9631\n",
      "Epoch 41/50\n",
      "33600/33600 [==============================] - 3s 79us/step - loss: 0.0831 - acc: 0.9776 - val_loss: 0.1238 - val_acc: 0.9630\n",
      "Epoch 42/50\n",
      "33600/33600 [==============================] - 3s 102us/step - loss: 0.0817 - acc: 0.9780 - val_loss: 0.1224 - val_acc: 0.9639\n",
      "Epoch 43/50\n",
      "33600/33600 [==============================] - 3s 83us/step - loss: 0.0803 - acc: 0.9782 - val_loss: 0.1221 - val_acc: 0.9642\n",
      "Epoch 44/50\n",
      "33600/33600 [==============================] - 2s 55us/step - loss: 0.0791 - acc: 0.9788 - val_loss: 0.1211 - val_acc: 0.9642\n",
      "Epoch 45/50\n",
      "33600/33600 [==============================] - 2s 67us/step - loss: 0.0779 - acc: 0.9788 - val_loss: 0.1204 - val_acc: 0.9643\n",
      "Epoch 46/50\n",
      "33600/33600 [==============================] - 2s 59us/step - loss: 0.0766 - acc: 0.9792 - val_loss: 0.1191 - val_acc: 0.9640\n",
      "Epoch 47/50\n",
      "33600/33600 [==============================] - 2s 50us/step - loss: 0.0753 - acc: 0.9798 - val_loss: 0.1186 - val_acc: 0.9650\n",
      "Epoch 48/50\n",
      "33600/33600 [==============================] - 2s 52us/step - loss: 0.0742 - acc: 0.9800 - val_loss: 0.1176 - val_acc: 0.9651\n",
      "Epoch 49/50\n",
      "33600/33600 [==============================] - 2s 62us/step - loss: 0.0729 - acc: 0.9804 - val_loss: 0.1172 - val_acc: 0.9651\n",
      "Epoch 50/50\n",
      "33600/33600 [==============================] - 2s 45us/step - loss: 0.0719 - acc: 0.9810 - val_loss: 0.1161 - val_acc: 0.9655\n"
     ]
    }
   ],
   "source": [
    "hist = model.fit(X_train, y_train_one_hot,\n",
    "          shuffle=True,\n",
    "          epochs=50,\n",
    "          batch_size=128,\n",
    "          validation_data=(X_test, y_test_one_hot)\n",
    "         )"
   ]
  },
  {
   "cell_type": "code",
   "execution_count": 43,
   "metadata": {},
   "outputs": [
    {
     "data": {
      "text/plain": [
       "dict_keys(['val_loss', 'val_acc', 'loss', 'acc'])"
      ]
     },
     "execution_count": 43,
     "metadata": {},
     "output_type": "execute_result"
    }
   ],
   "source": [
    "hist.history.keys()"
   ]
  },
  {
   "cell_type": "code",
   "execution_count": 48,
   "metadata": {},
   "outputs": [
    {
     "data": {
      "image/png": "[encoded data removed]",
      "text/plain": [
       "<Figure size 432x288 with 1 Axes>"
      ]
     },
     "metadata": {
      "needs_background": "light"
     },
     "output_type": "display_data"
    },
    {
     "data": {
      "image/png": "[encoded data removed]",
      "text/plain": [
       "<Figure size 432x288 with 1 Axes>"
      ]
     },
     "metadata": {
      "needs_background": "light"
     },
     "output_type": "display_data"
    }
   ],
   "source": [
    "plt.figure(0)\n",
    "plt.title(\"Loss\")\n",
    "plt.plot(hist.history['loss'], 'r', label='Training')\n",
    "plt.plot(hist.history['val_loss'], 'b', label='Validation')\n",
    "plt.legend()\n",
    "plt.show()\n",
    "\n",
    "plt.figure(1)\n",
    "plt.title(\"Accuracy\")\n",
    "plt.plot(hist.history['acc'], 'r', label='Training')\n",
    "plt.plot(hist.history['val_acc'], 'b', label='Validation')\n",
    "plt.legend()\n",
    "plt.show()"
   ]
  },
  {
   "cell_type": "code",
   "execution_count": null,
   "metadata": {},
   "outputs": [],
   "source": []
  }
 ],
 "metadata": {
  "kernelspec": {
   "display_name": "Python 3",
   "language": "python",
   "name": "python3"
  },
  "language_info": {
   "codemirror_mode": {
    "name": "ipython",
    "version": 3
   },
   "file_extension": ".py",
   "mimetype": "text/x-python",
   "name": "python",
   "nbconvert_exporter": "python",
   "pygments_lexer": "ipython3",
   "version": "3.7.0"
  }
 },
 "nbformat": 4,
 "nbformat_minor": 2
}
