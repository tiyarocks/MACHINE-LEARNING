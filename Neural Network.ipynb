{
 "cells": [
  {
   "cell_type": "code",
   "execution_count": 1,
   "metadata": {},
   "outputs": [],
   "source": [
    "import numpy\n",
    "from matplotlib import pyplot as plt"
   ]
  },
  {
   "cell_type": "markdown",
   "metadata": {},
   "source": [
    "## Links for NN Theory\n",
    "#### [Colah Blog -- Neural Nets, Manifolds](http://colah.github.io/posts/2014-03-NN-Manifolds-Topology/)\n",
    "#### [Colah Blog -- Computational Graphs](http://colah.github.io/posts/2015-08-Backprop/)\n",
    "#### [Cross Entropy](https://www.ics.uci.edu/~pjsadows/notes.pdf)\n",
    "#### [Softmax and its derivative](https://eli.thegreenplace.net/2016/the-softmax-function-and-its-derivative/)\n",
    "#### [Tensorflow Playground](https://playground.tensorflow.org)"
   ]
  },
  {
   "cell_type": "markdown",
   "metadata": {},
   "source": [
    "# NN Template Class"
   ]
  },
  {
   "cell_type": "code",
   "execution_count": 2,
   "metadata": {},
   "outputs": [],
   "source": [
    "class NeuralNetwork:\n",
    "    \n",
    "    def __init__(self, ):\n",
    "        pass\n",
    "    \n",
    "    def forward(self, ):\n",
    "        pass\n",
    "    \n",
    "    def backward(self, ):\n",
    "        pass\n",
    "    \n",
    "    def compute_loss(self, ):\n",
    "        pass\n",
    "    \n",
    "    def accuracy(self, ):\n",
    "        pass\n",
    "    \n",
    "    def predict(self, ):\n",
    "        pass\n",
    "    \n",
    "    def sigmoid(self, x):\n",
    "        pass\n",
    "    \n",
    "    def sigmoid_derivative(self, x):\n",
    "        pass\n",
    "    \n",
    "    def softmax(self, x):\n",
    "        pass\n",
    "    \n",
    "    def train(self):\n",
    "        pass\n",
    "    \n",
    "    "
   ]
  },
  {
   "cell_type": "code",
   "execution_count": 3,
   "metadata": {},
   "outputs": [],
   "source": [
    "nn = NeuralNetwork()"
   ]
  },
  {
   "cell_type": "code",
   "execution_count": null,
   "metadata": {},
   "outputs": [],
   "source": [
    "nn.train()"
   ]
  }
 ],
 "metadata": {
  "kernelspec": {
   "display_name": "Python 3",
   "language": "python",
   "name": "python3"
  },
  "language_info": {
   "codemirror_mode": {
    "name": "ipython",
    "version": 3
   },
   "file_extension": ".py",
   "mimetype": "text/x-python",
   "name": "python",
   "nbconvert_exporter": "python",
   "pygments_lexer": "ipython3",
   "version": "3.7.0"
  }
 },
 "nbformat": 4,
 "nbformat_minor": 2
}
